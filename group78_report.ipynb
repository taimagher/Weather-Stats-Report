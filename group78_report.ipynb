{
 "cells": [
  {
   "cell_type": "markdown",
   "id": "25a0f779",
   "metadata": {},
   "source": [
    "## Predicting Rainfall in Vancouver"
   ]
  },
  {
   "cell_type": "markdown",
   "id": "915ade14",
   "metadata": {
    "tags": []
   },
   "source": [
    "### Introduction"
   ]
  },
  {
   "cell_type": "markdown",
   "id": "43083c27",
   "metadata": {
    "jp-MarkdownHeadingCollapsed": true,
    "tags": []
   },
   "source": [
    "Being one of the rainiest cities in all of Canada, Vancouver averages over 1 metre of rainfall per year (Government of Canada 1981-2010 Climate Normals & Averages). Daily weather forecasts have become essential for residents, from planning what to wear to figuring out their activities for the following day, expressing a great appreciation for forecasts used by meteorologists. Meteorologists use complex computations based on Lewis Richardson's numerical process for weather prediction (1922). However, a [2021 study by Colorado State University](https://source.colostate.edu/ai-and-machine-learning-are-improving-weather-forecasts-but-they-wont-replace-human-experts/#:~:text=Some%20studies%20have%20shown%20that,computing%20power%20the%20models%20require.) showed that machine-learning-based forecast systems could predict the weather just as well, but at a fraction of the cost, lowering the amount of resources required. This further leads us to question if it is possible to predict how much it would rain on any given day of the year. \n",
    "This project aims to explore this through the use of meteorological measurements such as temperature, relative humidity, time of the year, and windspeed with a regression model to predict rainfall amounts. This model will be trained using a [dataset](https://vancouver.weatherstats.ca/download.html) downloaded from Vancouver Weather Stats, containing climate data for Vancouver for the past decade (2011-2021)."
   ]
  },
  {
   "cell_type": "markdown",
   "id": "66a26774",
   "metadata": {},
   "source": [
    "### Preliminary Data Analysis"
   ]
  },
  {
   "cell_type": "markdown",
   "id": "57363a60",
   "metadata": {},
   "source": [
    "Our first step is to load, wrangle, and explore the data visualizations. We start by loading the five below packages (`tidyverse`,`haven`,`lubridate`,`tidymodels`,`cowplot`) needed for our analysis."
   ]
  },
  {
   "cell_type": "code",
   "execution_count": null,
   "id": "735ab09a",
   "metadata": {},
   "outputs": [
    {
     "name": "stderr",
     "output_type": "stream",
     "text": [
      "<<<<<<< local\n",
      "── \u001b[1mAttaching packages\u001b[22m ─────────────────────────────────────── tidyverse 1.3.1 ──\n",
      "\n",
      "\u001b[32m✔\u001b[39m \u001b[34mggplot2\u001b[39m 3.3.6     \u001b[32m✔\u001b[39m \u001b[34mpurrr  \u001b[39m 0.3.4\n",
      "\u001b[32m✔\u001b[39m \u001b[34mtibble \u001b[39m 3.1.7     \u001b[32m✔\u001b[39m \u001b[34mdplyr  \u001b[39m 1.0.9\n",
      "\u001b[32m✔\u001b[39m \u001b[34mtidyr  \u001b[39m 1.2.0     \u001b[32m✔\u001b[39m \u001b[34mstringr\u001b[39m 1.4.0\n",
      "\u001b[32m✔\u001b[39m \u001b[34mreadr  \u001b[39m 2.1.2     \u001b[32m✔\u001b[39m \u001b[34mforcats\u001b[39m 0.5.1\n",
      "\n",
      "── \u001b[1mConflicts\u001b[22m ────────────────────────────────────────── tidyverse_conflicts() ──\n",
      "\u001b[31m✖\u001b[39m \u001b[34mdplyr\u001b[39m::\u001b[32mfilter()\u001b[39m masks \u001b[34mstats\u001b[39m::filter()\n",
      "\u001b[31m✖\u001b[39m \u001b[34mdplyr\u001b[39m::\u001b[32mlag()\u001b[39m    masks \u001b[34mstats\u001b[39m::lag()\n",
      "\n",
      "\n",
      "Attaching package: ‘lubridate’\n",
      "\n",
      "\n",
      "The following objects are masked from ‘package:base’:\n",
      "\n",
      "    date, intersect, setdiff, union\n",
      "\n",
      "\n",
      "── \u001b[1mAttaching packages\u001b[22m ────────────────────────────────────── tidymodels 1.0.0 ──\n",
      "\n",
      "\u001b[32m✔\u001b[39m \u001b[34mbroom       \u001b[39m 1.0.0     \u001b[32m✔\u001b[39m \u001b[34mrsample     \u001b[39m 1.0.0\n",
      "\u001b[32m✔\u001b[39m \u001b[34mdials       \u001b[39m 1.0.0     \u001b[32m✔\u001b[39m \u001b[34mtune        \u001b[39m 1.0.0\n",
      "\u001b[32m✔\u001b[39m \u001b[34minfer       \u001b[39m 1.0.2     \u001b[32m✔\u001b[39m \u001b[34mworkflows   \u001b[39m 1.0.0\n",
      "\u001b[32m✔\u001b[39m \u001b[34mmodeldata   \u001b[39m 1.0.0     \u001b[32m✔\u001b[39m \u001b[34mworkflowsets\u001b[39m 1.0.0\n",
      "\u001b[32m✔\u001b[39m \u001b[34mparsnip     \u001b[39m 1.0.0     \u001b[32m✔\u001b[39m \u001b[34myardstick   \u001b[39m 1.0.0\n",
      "\u001b[32m✔\u001b[39m \u001b[34mrecipes     \u001b[39m 1.0.1     \n",
      "\n",
      "── \u001b[1mConflicts\u001b[22m ───────────────────────────────────────── tidymodels_conflicts() ──\n",
      "\u001b[31m✖\u001b[39m \u001b[34mscales\u001b[39m::\u001b[32mdiscard()\u001b[39m masks \u001b[34mpurrr\u001b[39m::discard()\n",
      "\u001b[31m✖\u001b[39m \u001b[34mdplyr\u001b[39m::\u001b[32mfilter()\u001b[39m   masks \u001b[34mstats\u001b[39m::filter()\n",
      "\u001b[31m✖\u001b[39m \u001b[34mrecipes\u001b[39m::\u001b[32mfixed()\u001b[39m  masks \u001b[34mstringr\u001b[39m::fixed()\n",
      "\u001b[31m✖\u001b[39m \u001b[34mdplyr\u001b[39m::\u001b[32mlag()\u001b[39m      masks \u001b[34mstats\u001b[39m::lag()\n",
      "\u001b[31m✖\u001b[39m \u001b[34myardstick\u001b[39m::\u001b[32mspec()\u001b[39m masks \u001b[34mreadr\u001b[39m::spec()\n",
      "\u001b[31m✖\u001b[39m \u001b[34mrecipes\u001b[39m::\u001b[32mstep()\u001b[39m   masks \u001b[34mstats\u001b[39m::step()\n",
      "\u001b[34m•\u001b[39m Use \u001b[32mtidymodels_prefer()\u001b[39m to resolve common conflicts.\n",
      "\n",
      "\n",
      "Attaching package: ‘cowplot’\n",
      "\n",
      "\n",
      "The following object is masked from ‘package:lubridate’:\n",
      "\n",
      "    stamp\n",
      "\n",
      "\n",
      "=======\n",
      "── \u001b[1mAttaching packages\u001b[22m ─────────────────────────────────────── tidyverse 1.3.1 ──\n",
      "\n",
      "\u001b[32m✔\u001b[39m \u001b[34mggplot2\u001b[39m 3.3.6     \u001b[32m✔\u001b[39m \u001b[34mpurrr  \u001b[39m 0.3.4\n",
      "\u001b[32m✔\u001b[39m \u001b[34mtibble \u001b[39m 3.1.7     \u001b[32m✔\u001b[39m \u001b[34mdplyr  \u001b[39m 1.0.9\n",
      "\u001b[32m✔\u001b[39m \u001b[34mtidyr  \u001b[39m 1.2.0     \u001b[32m✔\u001b[39m \u001b[34mstringr\u001b[39m 1.4.0\n",
      "\u001b[32m✔\u001b[39m \u001b[34mreadr  \u001b[39m 2.1.2     \u001b[32m✔\u001b[39m \u001b[34mforcats\u001b[39m 0.5.1\n",
      "\n",
      "── \u001b[1mConflicts\u001b[22m ────────────────────────────────────────── tidyverse_conflicts() ──\n",
      "\u001b[31m✖\u001b[39m \u001b[34mdplyr\u001b[39m::\u001b[32mfilter()\u001b[39m masks \u001b[34mstats\u001b[39m::filter()\n",
      "\u001b[31m✖\u001b[39m \u001b[34mdplyr\u001b[39m::\u001b[32mlag()\u001b[39m    masks \u001b[34mstats\u001b[39m::lag()\n",
      "\n",
      "\n",
      "Attaching package: ‘lubridate’\n",
      "\n",
      "\n",
      "The following objects are masked from ‘package:base’:\n",
      "\n",
      "    date, intersect, setdiff, union\n",
      "\n",
      "\n",
      "── \u001b[1mAttaching packages\u001b[22m ────────────────────────────────────── tidymodels 1.0.0 ──\n",
      "\n",
      "\u001b[32m✔\u001b[39m \u001b[34mbroom       \u001b[39m 1.0.0     \u001b[32m✔\u001b[39m \u001b[34mrsample     \u001b[39m 1.0.0\n",
      "\u001b[32m✔\u001b[39m \u001b[34mdials       \u001b[39m 1.0.0     \u001b[32m✔\u001b[39m \u001b[34mtune        \u001b[39m 1.0.0\n",
      "\u001b[32m✔\u001b[39m \u001b[34minfer       \u001b[39m 1.0.2     \u001b[32m✔\u001b[39m \u001b[34mworkflows   \u001b[39m 1.0.0\n",
      "\u001b[32m✔\u001b[39m \u001b[34mmodeldata   \u001b[39m 1.0.0     \u001b[32m✔\u001b[39m \u001b[34mworkflowsets\u001b[39m 1.0.0\n",
      "\u001b[32m✔\u001b[39m \u001b[34mparsnip     \u001b[39m 1.0.0     \u001b[32m✔\u001b[39m \u001b[34myardstick   \u001b[39m 1.0.0\n",
      "\u001b[32m✔\u001b[39m \u001b[34mrecipes     \u001b[39m 1.0.1     \n",
      "\n",
      "── \u001b[1mConflicts\u001b[22m ───────────────────────────────────────── tidymodels_conflicts() ──\n",
      "\u001b[31m✖\u001b[39m \u001b[34mscales\u001b[39m::\u001b[32mdiscard()\u001b[39m masks \u001b[34mpurrr\u001b[39m::discard()\n",
      "\u001b[31m✖\u001b[39m \u001b[34mdplyr\u001b[39m::\u001b[32mfilter()\u001b[39m   masks \u001b[34mstats\u001b[39m::filter()\n",
      "\u001b[31m✖\u001b[39m \u001b[34mrecipes\u001b[39m::\u001b[32mfixed()\u001b[39m  masks \u001b[34mstringr\u001b[39m::fixed()\n",
      "\u001b[31m✖\u001b[39m \u001b[34mdplyr\u001b[39m::\u001b[32mlag()\u001b[39m      masks \u001b[34mstats\u001b[39m::lag()\n",
      "\u001b[31m✖\u001b[39m \u001b[34myardstick\u001b[39m::\u001b[32mspec()\u001b[39m masks \u001b[34mreadr\u001b[39m::spec()\n",
      "\u001b[31m✖\u001b[39m \u001b[34mrecipes\u001b[39m::\u001b[32mstep()\u001b[39m   masks \u001b[34mstats\u001b[39m::step()\n",
      "\u001b[34m•\u001b[39m Learn how to get started at \u001b[32mhttps://www.tidymodels.org/start/\u001b[39m\n",
      "\n",
      "\n",
      "Attaching package: ‘cowplot’\n",
      "\n",
      "\n",
      "The following object is masked from ‘package:lubridate’:\n",
      "\n",
      "    stamp\n",
      "\n",
      "\n",
      ">>>>>>> remote\n"
     ]
    }
   ],
   "source": [
    "## needed packages\n",
    "library(tidyverse)\n",
    "library(haven)\n",
    "library(lubridate)\n",
    "library(tidymodels)\n",
    "library(cowplot)"
   ]
  },
  {
   "cell_type": "markdown",
   "id": "76fde095",
   "metadata": {},
   "source": [
    "From [this website](https://vancouver.weatherstats.ca/download.html) we downloaded the dataset of the daily weather in Vancouver for the past decade, which is a `.csv` file with headers. We’ll use the `read_csv()` function to load the data and assign it to an object called `weather`. We will also filter the dataset for observations between 2011 to 2021 (inclusive), because the dataset isn't complete for values outside that range."
   ]
  },
  {
   "cell_type": "code",
   "execution_count": null,
   "id": "bfff495f",
   "metadata": {},
   "outputs": [
    {
     "name": "stderr",
     "output_type": "stream",
     "text": [
      "\u001b[1mRows: \u001b[22m\u001b[34m4400\u001b[39m \u001b[1mColumns: \u001b[22m\u001b[34m70\u001b[39m\n",
      "\u001b[36m──\u001b[39m \u001b[1mColumn specification\u001b[22m \u001b[36m────────────────────────────────────────────────────────\u001b[39m\n",
      "\u001b[1mDelimiter:\u001b[22m \",\"\n",
      "\u001b[32mdbl\u001b[39m  (62): max_temperature, avg_hourly_temperature, avg_temperature, min_tem...\n",
      "\u001b[33mlgl\u001b[39m   (5): solar_radiation, max_cloud_cover_4, avg_hourly_cloud_cover_4, avg...\n",
      "\u001b[34mdate\u001b[39m  (1): date\n",
      "\u001b[34mtime\u001b[39m  (2): sunrise, sunset\n",
      "\n",
      "\u001b[36mℹ\u001b[39m Use `spec()` to retrieve the full column specification for this data.\n",
      "\u001b[36mℹ\u001b[39m Specify the column types or set `show_col_types = FALSE` to quiet this message.\n"
     ]
    }
   ],
   "source": [
    "weather <- read_csv(\"https://raw.githubusercontent.com/taimagher/Weather-Stats-Report/main/weatherstats_vancouver_daily_2001.csv\") |>\n",
    "            filter(year(date) >= 2011 & year(date) <= 2021) |>\n",
    "            arrange(date)"
   ]
  },
  {
   "cell_type": "markdown",
   "id": "ca29f6a3",
   "metadata": {},
   "source": [
    "Then, we use `slice()` to preview the first 6 rows of our data for further improving."
   ]
  },
  {
   "cell_type": "code",
   "execution_count": null,
   "id": "fed1ebbc",
   "metadata": {},
   "outputs": [
    {
     "data": {
      "text/html": [
       "<table class=\"dataframe\">\n",
       "<caption>A tibble: 3 × 70</caption>\n",
       "<thead>\n",
       "\t<tr><th scope=col>date</th><th scope=col>max_temperature</th><th scope=col>avg_hourly_temperature</th><th scope=col>avg_temperature</th><th scope=col>min_temperature</th><th scope=col>max_humidex</th><th scope=col>min_windchill</th><th scope=col>max_relative_humidity</th><th scope=col>avg_hourly_relative_humidity</th><th scope=col>avg_relative_humidity</th><th scope=col>⋯</th><th scope=col>avg_cloud_cover_4</th><th scope=col>min_cloud_cover_4</th><th scope=col>max_cloud_cover_8</th><th scope=col>avg_hourly_cloud_cover_8</th><th scope=col>avg_cloud_cover_8</th><th scope=col>min_cloud_cover_8</th><th scope=col>max_cloud_cover_10</th><th scope=col>avg_hourly_cloud_cover_10</th><th scope=col>avg_cloud_cover_10</th><th scope=col>min_cloud_cover_10</th></tr>\n",
       "\t<tr><th scope=col>&lt;date&gt;</th><th scope=col>&lt;dbl&gt;</th><th scope=col>&lt;dbl&gt;</th><th scope=col>&lt;dbl&gt;</th><th scope=col>&lt;dbl&gt;</th><th scope=col>&lt;dbl&gt;</th><th scope=col>&lt;dbl&gt;</th><th scope=col>&lt;dbl&gt;</th><th scope=col>&lt;dbl&gt;</th><th scope=col>&lt;dbl&gt;</th><th scope=col>⋯</th><th scope=col>&lt;lgl&gt;</th><th scope=col>&lt;lgl&gt;</th><th scope=col>&lt;dbl&gt;</th><th scope=col>&lt;dbl&gt;</th><th scope=col>&lt;dbl&gt;</th><th scope=col>&lt;dbl&gt;</th><th scope=col>&lt;dbl&gt;</th><th scope=col>&lt;dbl&gt;</th><th scope=col>&lt;dbl&gt;</th><th scope=col>&lt;dbl&gt;</th></tr>\n",
       "</thead>\n",
       "<tbody>\n",
       "\t<tr><td>2011-01-01</td><td>3.3</td><td>-1.62</td><td>-1.55</td><td>-6.4</td><td>NA</td><td>-10</td><td>92</td><td>76.1</td><td>74.0</td><td>⋯</td><td>NA</td><td>NA</td><td>NA</td><td>NA</td><td>NA</td><td>NA</td><td>NA</td><td>NA</td><td>NA</td><td>NA</td></tr>\n",
       "\t<tr><td>2011-01-02</td><td>3.4</td><td>-1.08</td><td>-1.30</td><td>-6.0</td><td>NA</td><td> -8</td><td>95</td><td>82.6</td><td>81.5</td><td>⋯</td><td>NA</td><td>NA</td><td>NA</td><td>NA</td><td>NA</td><td>NA</td><td>NA</td><td>NA</td><td>NA</td><td>NA</td></tr>\n",
       "\t<tr><td>2011-01-03</td><td>4.3</td><td>-0.44</td><td>-0.30</td><td>-4.9</td><td>NA</td><td> -8</td><td>95</td><td>86.4</td><td>82.0</td><td>⋯</td><td>NA</td><td>NA</td><td>NA</td><td>NA</td><td>NA</td><td>NA</td><td>NA</td><td>NA</td><td>NA</td><td>NA</td></tr>\n",
       "</tbody>\n",
       "</table>\n"
      ],
      "text/latex": [
       "A tibble: 3 × 70\n",
       "\\begin{tabular}{lllllllllllllllllllll}\n",
       " date & max\\_temperature & avg\\_hourly\\_temperature & avg\\_temperature & min\\_temperature & max\\_humidex & min\\_windchill & max\\_relative\\_humidity & avg\\_hourly\\_relative\\_humidity & avg\\_relative\\_humidity & ⋯ & avg\\_cloud\\_cover\\_4 & min\\_cloud\\_cover\\_4 & max\\_cloud\\_cover\\_8 & avg\\_hourly\\_cloud\\_cover\\_8 & avg\\_cloud\\_cover\\_8 & min\\_cloud\\_cover\\_8 & max\\_cloud\\_cover\\_10 & avg\\_hourly\\_cloud\\_cover\\_10 & avg\\_cloud\\_cover\\_10 & min\\_cloud\\_cover\\_10\\\\\n",
       " <date> & <dbl> & <dbl> & <dbl> & <dbl> & <dbl> & <dbl> & <dbl> & <dbl> & <dbl> & ⋯ & <lgl> & <lgl> & <dbl> & <dbl> & <dbl> & <dbl> & <dbl> & <dbl> & <dbl> & <dbl>\\\\\n",
       "\\hline\n",
       "\t 2011-01-01 & 3.3 & -1.62 & -1.55 & -6.4 & NA & -10 & 92 & 76.1 & 74.0 & ⋯ & NA & NA & NA & NA & NA & NA & NA & NA & NA & NA\\\\\n",
       "\t 2011-01-02 & 3.4 & -1.08 & -1.30 & -6.0 & NA &  -8 & 95 & 82.6 & 81.5 & ⋯ & NA & NA & NA & NA & NA & NA & NA & NA & NA & NA\\\\\n",
       "\t 2011-01-03 & 4.3 & -0.44 & -0.30 & -4.9 & NA &  -8 & 95 & 86.4 & 82.0 & ⋯ & NA & NA & NA & NA & NA & NA & NA & NA & NA & NA\\\\\n",
       "\\end{tabular}\n"
      ],
      "text/markdown": [
       "\n",
       "A tibble: 3 × 70\n",
       "\n",
       "| date &lt;date&gt; | max_temperature &lt;dbl&gt; | avg_hourly_temperature &lt;dbl&gt; | avg_temperature &lt;dbl&gt; | min_temperature &lt;dbl&gt; | max_humidex &lt;dbl&gt; | min_windchill &lt;dbl&gt; | max_relative_humidity &lt;dbl&gt; | avg_hourly_relative_humidity &lt;dbl&gt; | avg_relative_humidity &lt;dbl&gt; | ⋯ ⋯ | avg_cloud_cover_4 &lt;lgl&gt; | min_cloud_cover_4 &lt;lgl&gt; | max_cloud_cover_8 &lt;dbl&gt; | avg_hourly_cloud_cover_8 &lt;dbl&gt; | avg_cloud_cover_8 &lt;dbl&gt; | min_cloud_cover_8 &lt;dbl&gt; | max_cloud_cover_10 &lt;dbl&gt; | avg_hourly_cloud_cover_10 &lt;dbl&gt; | avg_cloud_cover_10 &lt;dbl&gt; | min_cloud_cover_10 &lt;dbl&gt; |\n",
       "|---|---|---|---|---|---|---|---|---|---|---|---|---|---|---|---|---|---|---|---|---|\n",
       "| 2011-01-01 | 3.3 | -1.62 | -1.55 | -6.4 | NA | -10 | 92 | 76.1 | 74.0 | ⋯ | NA | NA | NA | NA | NA | NA | NA | NA | NA | NA |\n",
       "| 2011-01-02 | 3.4 | -1.08 | -1.30 | -6.0 | NA |  -8 | 95 | 82.6 | 81.5 | ⋯ | NA | NA | NA | NA | NA | NA | NA | NA | NA | NA |\n",
       "| 2011-01-03 | 4.3 | -0.44 | -0.30 | -4.9 | NA |  -8 | 95 | 86.4 | 82.0 | ⋯ | NA | NA | NA | NA | NA | NA | NA | NA | NA | NA |\n",
       "\n"
      ],
      "text/plain": [
       "  date       max_temperature avg_hourly_temperature avg_temperature\n",
       "1 2011-01-01 3.3             -1.62                  -1.55          \n",
       "2 2011-01-02 3.4             -1.08                  -1.30          \n",
       "3 2011-01-03 4.3             -0.44                  -0.30          \n",
       "  min_temperature max_humidex min_windchill max_relative_humidity\n",
       "1 -6.4            NA          -10           92                   \n",
       "2 -6.0            NA           -8           95                   \n",
       "3 -4.9            NA           -8           95                   \n",
       "  avg_hourly_relative_humidity avg_relative_humidity ⋯ avg_cloud_cover_4\n",
       "1 76.1                         74.0                  ⋯ NA               \n",
       "2 82.6                         81.5                  ⋯ NA               \n",
       "3 86.4                         82.0                  ⋯ NA               \n",
       "  min_cloud_cover_4 max_cloud_cover_8 avg_hourly_cloud_cover_8\n",
       "1 NA                NA                NA                      \n",
       "2 NA                NA                NA                      \n",
       "3 NA                NA                NA                      \n",
       "  avg_cloud_cover_8 min_cloud_cover_8 max_cloud_cover_10\n",
       "1 NA                NA                NA                \n",
       "2 NA                NA                NA                \n",
       "3 NA                NA                NA                \n",
       "  avg_hourly_cloud_cover_10 avg_cloud_cover_10 min_cloud_cover_10\n",
       "1 NA                        NA                 NA                \n",
       "2 NA                        NA                 NA                \n",
       "3 NA                        NA                 NA                "
      ]
     },
     "metadata": {},
     "output_type": "display_data"
    },
    {
     "data": {
      "text/html": [
       "<table class=\"dataframe\">\n",
       "<caption>A tibble: 3 × 70</caption>\n",
       "<thead>\n",
       "\t<tr><th scope=col>date</th><th scope=col>max_temperature</th><th scope=col>avg_hourly_temperature</th><th scope=col>avg_temperature</th><th scope=col>min_temperature</th><th scope=col>max_humidex</th><th scope=col>min_windchill</th><th scope=col>max_relative_humidity</th><th scope=col>avg_hourly_relative_humidity</th><th scope=col>avg_relative_humidity</th><th scope=col>⋯</th><th scope=col>avg_cloud_cover_4</th><th scope=col>min_cloud_cover_4</th><th scope=col>max_cloud_cover_8</th><th scope=col>avg_hourly_cloud_cover_8</th><th scope=col>avg_cloud_cover_8</th><th scope=col>min_cloud_cover_8</th><th scope=col>max_cloud_cover_10</th><th scope=col>avg_hourly_cloud_cover_10</th><th scope=col>avg_cloud_cover_10</th><th scope=col>min_cloud_cover_10</th></tr>\n",
       "\t<tr><th scope=col>&lt;date&gt;</th><th scope=col>&lt;dbl&gt;</th><th scope=col>&lt;dbl&gt;</th><th scope=col>&lt;dbl&gt;</th><th scope=col>&lt;dbl&gt;</th><th scope=col>&lt;dbl&gt;</th><th scope=col>&lt;dbl&gt;</th><th scope=col>&lt;dbl&gt;</th><th scope=col>&lt;dbl&gt;</th><th scope=col>&lt;dbl&gt;</th><th scope=col>⋯</th><th scope=col>&lt;lgl&gt;</th><th scope=col>&lt;lgl&gt;</th><th scope=col>&lt;dbl&gt;</th><th scope=col>&lt;dbl&gt;</th><th scope=col>&lt;dbl&gt;</th><th scope=col>&lt;dbl&gt;</th><th scope=col>&lt;dbl&gt;</th><th scope=col>&lt;dbl&gt;</th><th scope=col>&lt;dbl&gt;</th><th scope=col>&lt;dbl&gt;</th></tr>\n",
       "</thead>\n",
       "<tbody>\n",
       "\t<tr><td>2021-12-29</td><td>-4.1</td><td>-7.09</td><td>-7.90</td><td>-11.7</td><td>NA</td><td>-18</td><td>92</td><td>69.2</td><td>70.0</td><td>⋯</td><td>NA</td><td>NA</td><td>8</td><td>4.6</td><td>4.0</td><td>0</td><td>NA</td><td>NA</td><td>NA</td><td>NA</td></tr>\n",
       "\t<tr><td>2021-12-30</td><td>-0.7</td><td>-4.03</td><td>-4.39</td><td> -8.1</td><td>NA</td><td>-14</td><td>94</td><td>85.0</td><td>80.0</td><td>⋯</td><td>NA</td><td>NA</td><td>8</td><td>4.6</td><td>4.5</td><td>1</td><td>NA</td><td>NA</td><td>NA</td><td>NA</td></tr>\n",
       "\t<tr><td>2021-12-31</td><td>-2.5</td><td>-6.64</td><td>-6.70</td><td>-10.9</td><td>NA</td><td>-17</td><td>93</td><td>74.8</td><td>72.5</td><td>⋯</td><td>NA</td><td>NA</td><td>8</td><td>3.5</td><td>4.5</td><td>1</td><td>NA</td><td>NA</td><td>NA</td><td>NA</td></tr>\n",
       "</tbody>\n",
       "</table>\n"
      ],
      "text/latex": [
       "A tibble: 3 × 70\n",
       "\\begin{tabular}{lllllllllllllllllllll}\n",
       " date & max\\_temperature & avg\\_hourly\\_temperature & avg\\_temperature & min\\_temperature & max\\_humidex & min\\_windchill & max\\_relative\\_humidity & avg\\_hourly\\_relative\\_humidity & avg\\_relative\\_humidity & ⋯ & avg\\_cloud\\_cover\\_4 & min\\_cloud\\_cover\\_4 & max\\_cloud\\_cover\\_8 & avg\\_hourly\\_cloud\\_cover\\_8 & avg\\_cloud\\_cover\\_8 & min\\_cloud\\_cover\\_8 & max\\_cloud\\_cover\\_10 & avg\\_hourly\\_cloud\\_cover\\_10 & avg\\_cloud\\_cover\\_10 & min\\_cloud\\_cover\\_10\\\\\n",
       " <date> & <dbl> & <dbl> & <dbl> & <dbl> & <dbl> & <dbl> & <dbl> & <dbl> & <dbl> & ⋯ & <lgl> & <lgl> & <dbl> & <dbl> & <dbl> & <dbl> & <dbl> & <dbl> & <dbl> & <dbl>\\\\\n",
       "\\hline\n",
       "\t 2021-12-29 & -4.1 & -7.09 & -7.90 & -11.7 & NA & -18 & 92 & 69.2 & 70.0 & ⋯ & NA & NA & 8 & 4.6 & 4.0 & 0 & NA & NA & NA & NA\\\\\n",
       "\t 2021-12-30 & -0.7 & -4.03 & -4.39 &  -8.1 & NA & -14 & 94 & 85.0 & 80.0 & ⋯ & NA & NA & 8 & 4.6 & 4.5 & 1 & NA & NA & NA & NA\\\\\n",
       "\t 2021-12-31 & -2.5 & -6.64 & -6.70 & -10.9 & NA & -17 & 93 & 74.8 & 72.5 & ⋯ & NA & NA & 8 & 3.5 & 4.5 & 1 & NA & NA & NA & NA\\\\\n",
       "\\end{tabular}\n"
      ],
      "text/markdown": [
       "\n",
       "A tibble: 3 × 70\n",
       "\n",
       "| date &lt;date&gt; | max_temperature &lt;dbl&gt; | avg_hourly_temperature &lt;dbl&gt; | avg_temperature &lt;dbl&gt; | min_temperature &lt;dbl&gt; | max_humidex &lt;dbl&gt; | min_windchill &lt;dbl&gt; | max_relative_humidity &lt;dbl&gt; | avg_hourly_relative_humidity &lt;dbl&gt; | avg_relative_humidity &lt;dbl&gt; | ⋯ ⋯ | avg_cloud_cover_4 &lt;lgl&gt; | min_cloud_cover_4 &lt;lgl&gt; | max_cloud_cover_8 &lt;dbl&gt; | avg_hourly_cloud_cover_8 &lt;dbl&gt; | avg_cloud_cover_8 &lt;dbl&gt; | min_cloud_cover_8 &lt;dbl&gt; | max_cloud_cover_10 &lt;dbl&gt; | avg_hourly_cloud_cover_10 &lt;dbl&gt; | avg_cloud_cover_10 &lt;dbl&gt; | min_cloud_cover_10 &lt;dbl&gt; |\n",
       "|---|---|---|---|---|---|---|---|---|---|---|---|---|---|---|---|---|---|---|---|---|\n",
       "| 2021-12-29 | -4.1 | -7.09 | -7.90 | -11.7 | NA | -18 | 92 | 69.2 | 70.0 | ⋯ | NA | NA | 8 | 4.6 | 4.0 | 0 | NA | NA | NA | NA |\n",
       "| 2021-12-30 | -0.7 | -4.03 | -4.39 |  -8.1 | NA | -14 | 94 | 85.0 | 80.0 | ⋯ | NA | NA | 8 | 4.6 | 4.5 | 1 | NA | NA | NA | NA |\n",
       "| 2021-12-31 | -2.5 | -6.64 | -6.70 | -10.9 | NA | -17 | 93 | 74.8 | 72.5 | ⋯ | NA | NA | 8 | 3.5 | 4.5 | 1 | NA | NA | NA | NA |\n",
       "\n"
      ],
      "text/plain": [
       "  date       max_temperature avg_hourly_temperature avg_temperature\n",
       "1 2021-12-29 -4.1            -7.09                  -7.90          \n",
       "2 2021-12-30 -0.7            -4.03                  -4.39          \n",
       "3 2021-12-31 -2.5            -6.64                  -6.70          \n",
       "  min_temperature max_humidex min_windchill max_relative_humidity\n",
       "1 -11.7           NA          -18           92                   \n",
       "2  -8.1           NA          -14           94                   \n",
       "3 -10.9           NA          -17           93                   \n",
       "  avg_hourly_relative_humidity avg_relative_humidity ⋯ avg_cloud_cover_4\n",
       "1 69.2                         70.0                  ⋯ NA               \n",
       "2 85.0                         80.0                  ⋯ NA               \n",
       "3 74.8                         72.5                  ⋯ NA               \n",
       "  min_cloud_cover_4 max_cloud_cover_8 avg_hourly_cloud_cover_8\n",
       "1 NA                8                 4.6                     \n",
       "2 NA                8                 4.6                     \n",
       "3 NA                8                 3.5                     \n",
       "  avg_cloud_cover_8 min_cloud_cover_8 max_cloud_cover_10\n",
       "1 4.0               0                 NA                \n",
       "2 4.5               1                 NA                \n",
       "3 4.5               1                 NA                \n",
       "  avg_hourly_cloud_cover_10 avg_cloud_cover_10 min_cloud_cover_10\n",
       "1 NA                        NA                 NA                \n",
       "2 NA                        NA                 NA                \n",
       "3 NA                        NA                 NA                "
      ]
     },
     "metadata": {},
     "output_type": "display_data"
    }
   ],
   "source": [
    "weather |> head(3)\n",
    "weather |> tail(3)"
   ]
  },
  {
   "cell_type": "code",
   "execution_count": null,
   "id": "991fbe64",
   "metadata": {},
   "outputs": [],
   "source": []
  },
  {
   "cell_type": "markdown",
   "id": "0ae436be",
   "metadata": {},
   "source": [
    "We observed that there are columns containing maximum and minimum readings recorded for each day. We do not need these columns, since it is not reasonable to train our model on extreme values (they could contain outliers). We shall thus use `select` function to extract the columns `date` and those that start with `avg_*`, as well as `rain` that we needed."
   ]
  },
  {
   "cell_type": "code",
   "execution_count": null,
   "id": "873d8b7c",
   "metadata": {},
   "outputs": [],
   "source": [
    "selected_rain_data <- weather |>\n",
    "                    select(date, starts_with('avg'), rain) "
   ]
  },
  {
   "cell_type": "markdown",
   "id": "239d48f1",
   "metadata": {},
   "source": [
    "There are also some rows for `rain` that contain `NA`s which We must filter out. Otherwise, our regression algorithm can unintentionally predict `NA` due to an `NA` value when calculating the mean value of nearest neighbors. To avoid this, we need to add the argument `is.na() == FALSE` as illustrated below."
   ]
  },
  {
   "cell_type": "code",
   "execution_count": null,
   "id": "9c548c92",
   "metadata": {},
   "outputs": [],
   "source": [
    "rain_data <- selected_rain_data |>\n",
    "                    filter(is.na(rain) == FALSE)"
   ]
  },
  {
   "cell_type": "markdown",
   "id": "67da0387",
   "metadata": {},
   "source": [
    "Before we proceed, let us first split our data into training and testing using `initial_split` function to ensure fairness when testing accuracy. We have chosen to allocate **75%** of the data for training. This ensures balance between enough data available a well-trained model, as well as enough data to judge the accuracy well. We maintain evenness of the `rain` column's values when splitting (here, set `strata` to `rain`. We also set a seed in **78** so that our split is reproducible when we move on to actually implementing the algorithm."
   ]
  },
  {
   "cell_type": "code",
   "execution_count": null,
   "id": "2564fbd0",
   "metadata": {},
   "outputs": [],
   "source": [
    "set.seed(78)\n",
    "\n",
    "rain_split <- initial_split(rain_data, prop = 0.75, strata = rain)\n",
    "rain_training <- training(rain_split)\n",
    "rain_testing <- testing(rain_split)"
   ]
  },
  {
   "cell_type": "markdown",
   "id": "05a4a0e1",
   "metadata": {},
   "source": [
    "We can then use `group_by` and `summarize` as well as `sum()` to find the Total Rainfall of each year(2012-2021) in `rain_training`. Also, we need to use `filter` to exclude the data in 2022 as unovered year will cause imprecision for our prediction."
   ]
  },
  {
   "cell_type": "code",
   "execution_count": null,
   "id": "56fff491",
   "metadata": {},
   "outputs": [
    {
     "data": {
      "text/html": [
       "<table class=\"dataframe\">\n",
       "<caption>A tibble: 11 × 2</caption>\n",
       "<thead>\n",
       "\t<tr><th scope=col>Year</th><th scope=col>Total Rainfall (mm)</th></tr>\n",
       "\t<tr><th scope=col>&lt;dbl&gt;</th><th scope=col>&lt;dbl&gt;</th></tr>\n",
       "</thead>\n",
       "<tbody>\n",
       "\t<tr><td>2011</td><td>804.4</td></tr>\n",
       "\t<tr><td>2012</td><td>799.3</td></tr>\n",
       "\t<tr><td>2013</td><td>670.2</td></tr>\n",
       "\t<tr><td>2014</td><td>998.2</td></tr>\n",
       "\t<tr><td>2015</td><td>767.8</td></tr>\n",
       "\t<tr><td>2016</td><td>923.4</td></tr>\n",
       "\t<tr><td>2017</td><td>863.0</td></tr>\n",
       "\t<tr><td>2018</td><td>977.0</td></tr>\n",
       "\t<tr><td>2019</td><td>619.2</td></tr>\n",
       "\t<tr><td>2020</td><td>883.0</td></tr>\n",
       "\t<tr><td>2021</td><td>982.4</td></tr>\n",
       "</tbody>\n",
       "</table>\n"
      ],
      "text/latex": [
       "A tibble: 11 × 2\n",
       "\\begin{tabular}{ll}\n",
       " Year & Total Rainfall (mm)\\\\\n",
       " <dbl> & <dbl>\\\\\n",
       "\\hline\n",
       "\t 2011 & 804.4\\\\\n",
       "\t 2012 & 799.3\\\\\n",
       "\t 2013 & 670.2\\\\\n",
       "\t 2014 & 998.2\\\\\n",
       "\t 2015 & 767.8\\\\\n",
       "\t 2016 & 923.4\\\\\n",
       "\t 2017 & 863.0\\\\\n",
       "\t 2018 & 977.0\\\\\n",
       "\t 2019 & 619.2\\\\\n",
       "\t 2020 & 883.0\\\\\n",
       "\t 2021 & 982.4\\\\\n",
       "\\end{tabular}\n"
      ],
      "text/markdown": [
       "\n",
       "A tibble: 11 × 2\n",
       "\n",
       "| Year &lt;dbl&gt; | Total Rainfall (mm) &lt;dbl&gt; |\n",
       "|---|---|\n",
       "| 2011 | 804.4 |\n",
       "| 2012 | 799.3 |\n",
       "| 2013 | 670.2 |\n",
       "| 2014 | 998.2 |\n",
       "| 2015 | 767.8 |\n",
       "| 2016 | 923.4 |\n",
       "| 2017 | 863.0 |\n",
       "| 2018 | 977.0 |\n",
       "| 2019 | 619.2 |\n",
       "| 2020 | 883.0 |\n",
       "| 2021 | 982.4 |\n",
       "\n"
      ],
      "text/plain": [
       "   Year Total Rainfall (mm)\n",
       "1  2011 804.4              \n",
       "2  2012 799.3              \n",
       "3  2013 670.2              \n",
       "4  2014 998.2              \n",
       "5  2015 767.8              \n",
       "6  2016 923.4              \n",
       "7  2017 863.0              \n",
       "8  2018 977.0              \n",
       "9  2019 619.2              \n",
       "10 2020 883.0              \n",
       "11 2021 982.4              "
      ]
     },
     "metadata": {},
     "output_type": "display_data"
    }
   ],
   "source": [
    "total_rain_year <- rain_training |> \n",
    "                    group_by(year(date)) |>\n",
    "                    summarize(sum(rain))\n",
    "colnames(total_rain_year) <- c(\"Year\", \"Total Rainfall (mm)\")\n",
    "total_rain_year"
   ]
  },
  {
   "cell_type": "markdown",
   "id": "ff8a1688",
   "metadata": {},
   "source": [
    "###### *Table 1: Rain Training model from years 2012-2021*\n",
    "\n",
    "\n",
    "This table shows us how significant rainfall amounts in Vancouver are, and that they have been consistent over time. We will now move on to identifying predictors to choose for our model."
   ]
  },
  {
   "cell_type": "markdown",
   "id": "81cc394e",
   "metadata": {
    "tags": []
   },
   "source": [
    "### Choosing Predictors"
   ]
  },
  {
   "cell_type": "markdown",
   "id": "a90e16a8",
   "metadata": {},
   "source": [
    "We want to predict rainfall(in mm)`Rainfall` given a particular day of the year`Date`. But we know that rain changes seasonally. Thus, to confirm this, we first plot a scatterplot using `geom_point()` (with _only_ training data) with the `Date` on the _x_-axis and the `Rainfall` in millimetres on the _y_-axis to assess the relationship between these two variables, shown in *Figure 1.0*."
   ]
  },
  {
   "cell_type": "code",
   "execution_count": 8,
   "id": "f826a36e",
   "metadata": {},
   "outputs": [],
   "source": [
    "options(repr.plot.width = 17, repr.plot.height = 7)\n",
    "\n",
    "rain_over_time_plot <- ggplot(rain_training, aes(x = date, y = rain)) + \n",
    "                        geom_point(alpha = 0.6) + \n",
    "                        labs(x = \"Year\", y = \"Rainfall (mm)\", subtitle = \"Figure 1: Rainfall Over the Years\") +\n",
    "                        scale_x_date(date_labels = \"%Y\", date_breaks = \"1 year\") +\n",
    "                        theme(text = element_text(size = 20))\n",
    "                     \n",
    "rain_over_time_plot"
   ]
  },
  {
   "cell_type": "markdown",
   "id": "9eca153e",
   "metadata": {},
   "source": [
    "We can confirm from the above plot that the rainfall does indeed follow a seasonal pattern, dropping around the middle of each calendar year. It is evident that the actual time within the year is useful when predicting rainfall. \n",
    "Let us add a new column called `yday`, which gives a value from 0 to 366 (based on day of the year) for each of our observations. For example, January 1st would have a `yday` of 1, February 3rd would have a `yday` of 34, etc. This will be useful as a predictor. There is a useful function `yday` from the `lubridate` that does this converstion for us, appropriately handling leap years too."
   ]
  },
  {
   "cell_type": "code",
   "execution_count": 9,
   "id": "fe246b31",
   "metadata": {},
   "outputs": [],
   "source": [
    "rain_training <- rain_training |> mutate(yday = yday(date))\n",
    "rain_testing <- rain_testing |> mutate(yday = yday(date))"
   ]
  },
  {
   "cell_type": "code",
   "execution_count": 10,
   "id": "adc0fd93",
   "metadata": {},
   "outputs": [
    {
     "ename": "ERROR",
     "evalue": "Error in parse(text = x, srcfile = src): <text>:1:1: unexpected input\n1: <<\n    ^\n",
     "output_type": "error",
     "traceback": [
      "Error in parse(text = x, srcfile = src): <text>:1:1: unexpected input\n1: <<\n    ^\nTraceback:\n"
     ]
    }
   ],
   "source": [
    "<<<<<<< REMOTE CELL DELETED >>>>>>>\n",
    "options(repr.plot.width = 10, repr.plot.height = 7)\n",
    "\n",
    "rain_yday_plot <- ggplot(rain_training, aes(x = yday, y = rain)) + \n",
    "                        geom_point(alpha = 0.6) + \n",
    "                        labs(x = \"Date\", y = \"Rainfall (mm)\", subtitle = \"Figure 2: Average Daily Rainfall through the year\") +\n",
    "                        theme(text = element_text(size = 20))\n",
    "                     \n",
    "rain_yday_plot"
   ]
  },
  {
   "cell_type": "markdown",
   "id": "992de2bd",
   "metadata": {},
   "source": [
    "According to [The National Oceanic and Atmospheric Administration](https://www.noaa.gov/education/resource-collections/weather-atmosphere/weather-observations#:~:text=Temperature%2C%20humidity%2C%20precipitation%2C%20air,first%20weather%20observations%20were%20recorded), the ‘key observations’ used to predict weather patterns are temperature, humidity, wind speed, air pressure, and wind direction. \n",
    "\n",
    "Since wind direction is not quantifiable, we can't use it to train our _KNN_(K-nearest neighbors) regression model. We shall investigate how the other measurements affect rain. Let us summarize the mean value of these measurements for each day of the year using `group_by` and `summarize` as well as `mean` functions."
   ]
  },
  {
   "cell_type": "code",
   "execution_count": null,
   "id": "5b690210",
   "metadata": {},
   "outputs": [],
   "source": [
    "rain_summary <- rain_training |>\n",
    "                group_by(yday) |>\n",
    "                summarize(rain = mean(rain), \n",
    "                          avg_temperature = mean(avg_temperature),\n",
    "                          avg_relative_humidity = mean(avg_temperature),\n",
    "                          avg_wind_speed = mean(avg_wind_speed),\n",
    "                          avg_pressure_station = mean(avg_pressure_station))"
   ]
  },
  {
   "cell_type": "markdown",
   "id": "7e913bff",
   "metadata": {},
   "source": [
    "Let us now visualize the relationship between `rainfall`(put on the y-axis) and our various potential predictors`temperature`,`relative humidity`,`windspeed`,`pressure`(put on the x-axis) using scatterplot with `geom_point()`."
   ]
  },
  {
   "cell_type": "code",
   "execution_count": null,
   "id": "8131289d",
   "metadata": {},
   "outputs": [],
   "source": [
    "options(repr.plot.width = 19, repr.plot.height = 6)\n",
    "\n",
    "rain_temperature_plot <- ggplot(rain_training, aes(x = avg_temperature, y = rain)) + \n",
    "                         geom_point(alpha= 0.6) + \n",
    "                         labs(x = \"Temperature (°C)\", y = \"Rainfall (mm)\") +\n",
    "                        theme(text = element_text(size = 20))\n",
    "\n",
    "\n",
    "rain_humidity_plot <- ggplot(rain_training, aes(x = avg_relative_humidity, y = rain)) +\n",
    "                      geom_point(alpha= 0.6) +\n",
    "                      labs(x = \"Humidity (%)\", y = \"Rainfall (mm)\") +\n",
    "                        theme(text = element_text(size = 20))\n",
    "\n",
    "rain_windspeed_plot <- ggplot(rain_training, aes(x = avg_wind_speed, y = rain)) + \n",
    "                       geom_point(alpha= 0.6) + \n",
    "                       labs(x = \"Wind Speed (km/h)\", y = \"Rainfall (mm)\") +\n",
    "                        theme(text = element_text(size = 20))\n",
    "\n",
    "rain_pressure_plot <- ggplot(rain_training, aes(x = avg_pressure_station, y = rain)) + \n",
    "                       geom_point(alpha= 0.6) + \n",
    "                       labs(x = \"Air Pressure (kPa)\", y = \"Rainfall (mm)\") +\n",
    "                        theme(text = element_text(size = 20))"
   ]
  },
  {
   "cell_type": "markdown",
   "id": "b9336ef4",
   "metadata": {},
   "source": [
    "As well, we use Scatter plots `geom_point` to visualize how these variables correlate with the time of the year."
   ]
  },
  {
   "cell_type": "code",
   "execution_count": null,
   "id": "2b7ab53f",
   "metadata": {},
   "outputs": [],
   "source": [
    "options(repr.plot.width = 19, repr.plot.height = 6)\n",
    "rain_temperature_over_time_plot <- rain_summary |> ggplot(aes(x = yday, y = rain)) + \n",
    "                                   geom_bar(stat = 'identity', aes(fill = avg_temperature)) + \n",
    "                                   scale_fill_distiller(palette = 'YlOrRd') +\n",
    "                                   labs(x = \"Day of the year\", y = \"Average Rainfall (mm)\", fill = \"Temperature (°C)\") +\n",
    "                                   theme(text = element_text(size = 20)) +\n",
    "    ggtitle(\"Average Rainfall (mm) vs Temperature (°C) Plot Over the Years\")\n",
    "\n",
    "rain_humidity_over_time_plot <- rain_summary |> ggplot(aes(x = yday, y = rain)) + \n",
    "                                geom_bar(stat = 'identity', aes(fill = avg_relative_humidity)) + \n",
    "                                scale_fill_distiller(palette = 'Blues', direction = 1) +\n",
    "                                labs(x = \"Day of the year\", y = \"Average Rainfall (mm)\", fill = \"Humidity (%)\") +\n",
    "                                theme(text = element_text(size = 20)) +\n",
    "    ggtitle(\"Average Rainfall (mm) vs Humdity (%) Plot Over the Years\")\n",
    "\n",
    "rain_windspeed_over_time_plot <- rain_summary |> ggplot(aes(x = yday, y = rain)) + \n",
    "                            geom_bar(stat = 'identity', aes(fill = avg_wind_speed)) +\n",
    "                            scale_fill_distiller(palette = 'Greens') +\n",
    "                            labs(x = \"Day of the year\", y = \"Average Rainfall (mm)\", fill = \"Wind Speed (km/h)\") +\n",
    "                            theme(text = element_text(size = 20)) +\n",
    "ggtitle(\"Average Rainfall (mm) vs Wind Speed (km/h) Plot Over the Years\")\n",
    "\n",
    "rain_pressure_over_time_plot <- rain_summary |> ggplot(aes(x = yday, y = rain)) + \n",
    "                            geom_bar(stat = 'identity', aes(fill = avg_pressure_station)) +\n",
    "                            scale_fill_distiller(palette = 'Purples') +\n",
    "                            labs(x = \"Day of the year\", y = \"Average Rainfall (mm)\", fill = \"Air Pressure (kPa)\") +\n",
    "                            theme(text = element_text(size = 20)) +\n",
    "ggtitle(\"Average Rainfall (mm) vs Air Pressure (kPa) Plot Over the Years\")"
   ]
  },
  {
   "cell_type": "markdown",
   "id": "92dee565",
   "metadata": {},
   "source": [
    "For a better comparison, we set the same variables side by side using `plot_grid`."
   ]
  },
  {
   "cell_type": "code",
   "execution_count": null,
   "id": "1f14b18e",
   "metadata": {},
   "outputs": [],
   "source": [
    "rain_temperature <- plot_grid(p1 = rain_temperature_plot, p2 = rain_temperature_over_time_plot, rel_widths = c(1, 2))\n",
    "rain_temperature\n",
    "rain_humidity <- plot_grid(p1 = rain_humidity_plot, p2 = rain_humidity_over_time_plot, rel_widths = c(1, 2))\n",
    "rain_humidity\n",
    "rain_wind <- plot_grid(p1 = rain_windspeed_plot, p2 = rain_windspeed_over_time_plot, rel_widths = c(1, 2))\n",
    "rain_wind\n",
    "rain_pressure <- plot_grid(p1 = rain_pressure_plot, p2 = rain_pressure_over_time_plot, rel_widths = c(1, 2))\n",
    "rain_pressure"
   ]
  },
  {
   "cell_type": "markdown",
   "id": "bdf21e89",
   "metadata": {},
   "source": [
    "It is visible that all these values have relationships with rainfall, and their change with time is visible too. We now have a good set of predictors for our regression model: `yday + avg_temperature + avg_relative_humidity + avg_wind_speed + avg_pressure_station`. These are the day of the year, and the measurements for temperature, relative humidity, wind speed, and pressure."
   ]
  },
  {
   "cell_type": "markdown",
   "id": "5bbf2d2d",
   "metadata": {
    "tags": []
   },
   "source": [
    "### Prediction using _KNN_"
   ]
  },
  {
   "cell_type": "markdown",
   "id": "456397ac",
   "metadata": {},
   "source": [
    "We will be predicting the amount of rainfall in millimetres using the $K$-Nearest Neighbors regression algorithm. Since the shapes of the plots for the predictors aren’t straight lines, we can’t use linear regression. KNN, which works doesn't require any specific shape, would be the logical choice for this model. \n",
    "\n",
    "Therefore, in the context of KNN regression we will use Root Mean Square Error (RMSE) instead. The mathematical formula for calculating: \n",
    "$RMSE= \\sqrt{\\frac{1}{n}\\sum\\limits_{i=1}^{n}(y_i - \\hat{y_i})^2}$ ,\n",
    "\n",
    "where: $n$ is the number of observations;\n",
    "$yi$ is the observed value for the $i$th observation (*Data on rainfall in the past decade in our model*); \n",
    "${\\hat{y_i}}$ is the predicted value for the ${i}$th observatio (*Rainfall for a given day*).\n",
    "\n",
    "\n",
    "One potential disadvantage of the KNN algorithm is that it doesn’t work very well when extrapolating data. One could hence argue that our model might not make accurate predictions for dates further in the future. However, we have solved this problem by wrangling the date predictor into yday, which represents the day of the year. The timescale therefore becomes ‘cyclic’, and no extrapolation should be required."
   ]
  },
  {
   "cell_type": "markdown",
   "id": "88c85d44",
   "metadata": {
    "tags": []
   },
   "source": [
    "We have already split our data into a training and a testing set. We must then scale and center our predictors' values to ensure each predictor has an equal weighting on the prediction. To pick a value of $k$, we will use a 10-fold cross validation process and compare the root mean squared error for various values of $k$. We chose to use 10 folds because it is a reasonable balance between the $RMSE$ values we get and the amount of time we have to carry out our project."
   ]
  },
  {
   "cell_type": "markdown",
   "id": "c5730e53",
   "metadata": {},
   "source": [
    "Once we train our model using our chosen $k$ value, we will use it to predict the rainfall values using the predictor variables in our _testing_ dataset. We will compare our predictions to the actual values to obtain the root mean squared predicted error ($RMSPE$) of our model. We will visualize our results using a line graph of _predicted_ values, layered on a scatterplot of the actual rainfall values against the day of the year. We can also produce further such plots for each of our predictor variables, to get a better understanding of where our model performed well and where it didn't."
   ]
  },
  {
   "cell_type": "markdown",
   "id": "3809c169",
   "metadata": {},
   "source": [
    "### Expected Outcomes and Significance\n"
   ]
  },
  {
   "cell_type": "markdown",
   "id": "d211ab44",
   "metadata": {},
   "source": [
    "The outcome we aim to achieve is an accurate regression model for predicting the rainfall amount for any given day of the year. \n",
    "This exploration could potentially also shed light on the effects of Climate Change in Vancouver, following events such as 2021 [atmospheric river](https://www.uvic.ca/news/topics/2022+bc-floods-and-climate-change+news#:~:text=The%20powerful%20atmospheric%20river%20that,disaster%20in%20the%20province's%20history.) that caused severe flooding in many parts of the coast. If we notice our model begins to be **more inaccurate** in the coming years, this could further prove this impact of climate change. \n",
    "If our model is accurate, it could be a step in replacing the expensive numerical methods of weather forecasting used today, saving on computing power, and indirectly, fossil fuel usage."
   ]
  },
  {
   "cell_type": "markdown",
   "id": "03144bcf",
   "metadata": {},
   "source": [
    "Since we know how we can assess how well our model predicts the value of rainfall, we'll then use R to perform cross-validation and to choose the optimal **K**.\n"
   ]
  },
  {
   "cell_type": "markdown",
   "id": "b04f7aa7",
   "metadata": {},
   "source": [
    "### Training our Model"
   ]
  },
  {
   "cell_type": "markdown",
   "id": "db5b7f88",
   "metadata": {},
   "source": [
    "First, we will create a recipe `rain_recipe` for preprocessing our data. But as we have four predictors, we need to set all predictors at the same scales."
   ]
  },
  {
   "cell_type": "code",
   "execution_count": null,
   "id": "35363595",
   "metadata": {},
   "outputs": [],
   "source": [
    "rain_recipe <- recipe(rain ~ yday + avg_temperature + avg_relative_humidity + avg_wind_speed + avg_pressure_station,\n",
    "                      data = rain_training) |>\n",
    "                step_center(all_predictors()) |>\n",
    "                step_scale(all_predictors())"
   ]
  },
  {
   "cell_type": "markdown",
   "id": "97d07f36",
   "metadata": {},
   "source": [
    "Next, we create a model specification for K-nearest neighbors regression. We use `set_mode(\"regression\")` as it essentially tells `tidymodels` that we need to use different metrics for tuning and evaluation."
   ]
  },
  {
   "cell_type": "code",
   "execution_count": null,
   "id": "553514ae",
   "metadata": {},
   "outputs": [],
   "source": [
    "rain_spec <- nearest_neighbor(weight_func = \"rectangular\", neighbors = tune()) |> \n",
    "                set_engine(\"kknn\") |>\n",
    "                set_mode(\"regression\") "
   ]
  },
  {
   "cell_type": "markdown",
   "id": "8ce594b8",
   "metadata": {},
   "source": [
    "Then, we create the 10-fold cross-validation object `rain_vfold`, and put the recipe as well as model specification together in a workflow. Next we run cross-validation for a grid of numbers of neighbors ranging from 1 to 100 as well as tuning the model and returning the $RMSPE$ for each number of neighbors."
   ]
  },
  {
   "cell_type": "code",
   "execution_count": null,
   "id": "f53f49e9",
   "metadata": {},
   "outputs": [],
   "source": [
    "rain_vfold <- vfold_cv(rain_training, v = 10, strata = rain)\n",
    "\n",
    "gridvals <- tibble(neighbors = seq(1, 100))\n",
    "\n",
    "rain_results <- workflow() |> \n",
    "    add_recipe(rain_recipe) |> \n",
    "    add_model(rain_spec) |>\n",
    "    tune_grid(resamples = rain_vfold, grid = gridvals) |> \n",
    "    collect_metrics()"
   ]
  },
  {
   "cell_type": "markdown",
   "id": "d1262b2f",
   "metadata": {},
   "source": [
    "Let us now visualizes how the $RMSPE$ varies with the number of neighbors **K**."
   ]
  },
  {
   "cell_type": "code",
   "execution_count": null,
   "id": "9129b2ec",
   "metadata": {},
   "outputs": [],
   "source": [
    "options(repr.plot.width = 13, repr.plot.height = 7)\n",
    "\n",
    "rain_results <- rain_results |> filter(.metric == \"rmse\")\n",
    "rain_results_plot <- ggplot(rain_results, aes(x = neighbors, y = mean)) +\n",
    "                        geom_line() +\n",
    "                        labs(x = \"Neighbors\", y = \"RMSPE\") +\n",
    "                        theme(text = element_text(size = 20))\n",
    "rain_results_plot"
   ]
  },
  {
   "cell_type": "markdown",
   "id": "23a454e2",
   "metadata": {},
   "source": [
    "We can see that there don't appear to be any lucky spikes, so we shall take the value of k that gave the minimum $RMSPE$. \n",
    "\n",
    "The smallest occurs when **K** = 14."
   ]
  },
  {
   "cell_type": "code",
   "execution_count": null,
   "id": "64e3bf91",
   "metadata": {},
   "outputs": [],
   "source": [
    "k_min <- rain_results |>\n",
    "            arrange(mean) |>\n",
    "            head(1) |>\n",
    "            select(neighbors) |>\n",
    "            pull()\n",
    "k_min"
   ]
  },
  {
   "cell_type": "markdown",
   "id": "7c4cae3a",
   "metadata": {},
   "source": [
    "To predict on unseen data in the future, we first re-train our KNN regression model on the entire training data set, using **K** = 14 neighbors. Then we will use `predict` to make predictions on the test data."
   ]
  },
  {
   "cell_type": "code",
   "execution_count": null,
   "id": "45461730",
   "metadata": {},
   "outputs": [],
   "source": [
    "rain_best_spec <- nearest_neighbor(weight_func = \"rectangular\", neighbors = k_min) |>\n",
    "         set_engine(\"kknn\") |>\n",
    "         set_mode(\"regression\")\n",
    "\n",
    "rain_best_fit <- workflow() |>\n",
    "         add_recipe(rain_recipe) |>\n",
    "         add_model(rain_best_spec) |>\n",
    "         fit(data = rain_training)\n",
    "\n",
    "rain_pred <- rain_best_fit |>\n",
    "          predict(rain_testing) |>\n",
    "          bind_cols(rain_testing)\n",
    "          \n",
    "head(rain_pred)"
   ]
  },
  {
   "cell_type": "markdown",
   "id": "0a4b211a",
   "metadata": {},
   "source": [
    "### Results"
   ]
  },
  {
   "cell_type": "markdown",
   "id": "2d4d50c9",
   "metadata": {},
   "source": [
    "Finally, we use the `metrics` funciton to complete the summary of regression quality."
   ]
  },
  {
   "cell_type": "code",
   "execution_count": null,
   "id": "7edd83d6",
   "metadata": {},
   "outputs": [],
   "source": [
    "rain_summary <- rain_pred |>\n",
    "                metrics(truth = rain, estimate = .pred)\n",
    "\n",
    "rain_summary"
   ]
  },
  {
   "cell_type": "markdown",
   "id": "5e468d96",
   "metadata": {},
   "source": [
    "We can see that our $RMSPE$ value is ~4.89 mm of rainfall. This is decent: considering that rainfall can range from 0 to even 40 mm, 4.89 mm isn't too high. However, rainfall is a very dynamic thing, and varies through the year, so a single $RMSPE$ value isn't an accurate indicator. \n",
    "\n",
    "Let us instead see how accurately our final model has performed throughout the timespan of observations that this dataset includes."
   ]
  },
  {
   "cell_type": "code",
   "execution_count": null,
   "id": "a8af8e3e",
   "metadata": {},
   "outputs": [],
   "source": [
    "options(repr.plot.width = 16, repr.plot.height = 7)\n",
    "\n",
    "rain_pred_plot <- ggplot(rain_pred, aes(x = date, y = rain)) + \n",
    "                        geom_bar(stat = \"identity\") +\n",
    "                        geom_line(data = rain_pred, aes(x = date, y = .pred), color = \"blue\", alpha = 0.6) +\n",
    "                        labs(x = \"Date\", y = \"Rainfall (mm)\") +\n",
    "                        scale_x_date(date_labels = \"%Y\", date_breaks = \"1 year\") +\n",
    "                        theme(text = element_text(size = 20))\n",
    "rain_pred_plot"
   ]
  },
  {
   "cell_type": "markdown",
   "id": "d363cffd",
   "metadata": {},
   "source": [
    "In the above visualization, we compare our predicted output (blue line) to the bar plot of actual rainfall for each day. We can see from the above visualization that our model does a good job at capturing general trends in rainfall - the shape of the blueline seems to closely follow that of the bars. However, we notice that for days with very high amounts of rainfall, our model repeatedly underpredicts. This means that while our model could be a general indicator, it may fail to give storm warnings when needed, so it may not be good enough to fully replace conventional weather prediction methods."
   ]
  },
  {
   "cell_type": "markdown",
   "id": "260d9f7e",
   "metadata": {},
   "source": [
    "### Discussion"
   ]
  },
  {
   "cell_type": "markdown",
   "id": "bc4eb8d3",
   "metadata": {},
   "source": [
    "Given the dynamic nature of the weather, it is worth considering the possibility of our model becoming more inaccurate over time. This could indicate that rain values are adhering less to weather conforms, and suggest the effect of climate change in Vancouver. Let us visualize the change in our $RMSPE$ over time, to see how our model's accuracy is changing."
   ]
  },
  {
   "cell_type": "code",
   "execution_count": null,
   "id": "38ecece3",
   "metadata": {},
   "outputs": [],
   "source": [
    "climate_change <- rain_pred |>\n",
    "                    mutate(rmspe = sqrt((.pred)^2 + rain^2)) |>\n",
    "                    select(date, rmspe)\n",
    "                    \n",
    "                    \n",
    "climate_change_plot <-climate_change |>\n",
    "                        ggplot(aes(x = date, y = rmspe)) +\n",
    "                        geom_line() +\n",
    "                        labs(x = \"Date\", y = \"RMSPE\") +\n",
    "                        theme(text = element_text(size = 20))\n",
    "\n",
    "climate_change_plot\n"
   ]
  },
  {
   "cell_type": "markdown",
   "id": "6fcfa1a0",
   "metadata": {},
   "source": [
    "We can see that the highest $RMSPE$, i.e. the greatest error was made in 2022, which is known to be a year with very strange, anomalous rainfall patterns so far. However, this graph is too noisy for us to interpret more. Let us instead plot the change of average $RMSPE$ for each year."
   ]
  },
  {
   "cell_type": "code",
   "execution_count": null,
   "id": "ef7cc33d",
   "metadata": {},
   "outputs": [],
   "source": [
    "climate_change_yearly_plot <-climate_change |>\n",
    "                        group_by(year(date)) |>\n",
    "                        summarize(rmspe = mean(rmspe)) |>\n",
    "                        ggplot(aes(x = `year(date)`, y = rmspe)) +\n",
    "                        geom_line() +\n",
    "                        labs(x = \"Year\", y = \"RMSPE (Yearly Average)\") +\n",
    "                        theme(text = element_text(size = 20))\n",
    "climate_change_yearly_plot"
   ]
  },
  {
   "cell_type": "markdown",
   "id": "9f251482",
   "metadata": {},
   "source": [
    "Here, it is visible that the most inaccurate years for our model's predictions, on average, were 2014 and 2016. The average $RMSPE$ values have decreased after that, with an interesting zig-zag pattern is visible. There is no clear increase in accuracy, however, so we can't attribute the inaccuracy to climate change. This, however, isn't conclusive evidence to _deny_ climate change either. Also, note: 2022 isn't over yet, and this dataset only contains observations up to October?. The values could change once we obtain the complete dataset for 2022."
   ]
  },
  {
   "cell_type": "markdown",
   "id": "f2161daa",
   "metadata": {},
   "source": [
    "Back to our research question, we wanted to consider whether machine learning based models could replace conventional expensive numerical models for weather prediction. The very fact that our model was able to succesfully capture patterns in the rainfall is a good sign. Since this model was made using KNN Regression (one of the simplest regression algorithms) and still got a decent $RMSPE$, this gives a promising sign of achieving even better accuracies with even more complex regression algorithms.\n",
    "Our results indicate that there is great potential for machine learning in meteorology, and soon, we could be replacing old, slow, expensive methods with faster and more affordable machine learning models."
   ]
  },
  {
   "cell_type": "markdown",
   "id": "01e070f2",
   "metadata": {},
   "source": [
    "   ### Works Cited "
   ]
  },
  {
   "cell_type": "markdown",
   "id": "57044599",
   "metadata": {},
   "source": [
    "Hill, Russ Schumacher and Aaron. “AI and Machine Learning Are Improving Weather Forecasts, but They Won’t Replace Human Experts.” Colarado State University, 26 May 2022, https://source.colostate.edu/ai-and-machine-learning-are-improving-weather-forecasts-but-they-wont-replace-human-experts/.\n",
    "\n",
    "National Oceanic and Atmospheric Administration. “Weather Observations.” NOAA, 1 Feb. 2011, www.noaa.gov/education/resource-collections/weather-atmosphere/weather-observations#:~:text=Temperature%2C%20humidity%2C%20precipitation%2C%20air.\n",
    "\n",
    "Vancouver Weather Stats. “Data Download for Vancouver.” Amateur Weather Statistics for Vancouver, British Columbia, https://vancouver.weatherstats.ca/download.html."
   ]
  }
 ],
 "metadata": {
  "kernelspec": {
   "display_name": "R",
   "language": "R",
   "name": "ir"
  },
  "language_info": {
   "codemirror_mode": "r",
   "file_extension": ".r",
   "mimetype": "text/x-r-source",
   "name": "R",
   "pygments_lexer": "r",
   "version": "4.1.3"
  }
 },
 "nbformat": 4,
 "nbformat_minor": 5
}
